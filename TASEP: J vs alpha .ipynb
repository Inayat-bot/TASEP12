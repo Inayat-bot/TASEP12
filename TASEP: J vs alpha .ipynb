{
  "nbformat": 4,
  "nbformat_minor": 0,
  "metadata": {
    "colab": {
      "name": "TASEP13.ipynb",
      "provenance": [],
      "authorship_tag": "ABX9TyM0OFDZhFhNThdw51u8ecsb",
      "include_colab_link": true
    },
    "kernelspec": {
      "name": "python3",
      "display_name": "Python 3"
    }
  },
  "cells": [
    {
      "cell_type": "markdown",
      "metadata": {
        "id": "view-in-github",
        "colab_type": "text"
      },
      "source": [
        "<a href=\"https://colab.research.google.com/github/Inayat-bot/TASEP12/blob/main/TASEP13.ipynb\" target=\"_parent\"><img src=\"https://colab.research.google.com/assets/colab-badge.svg\" alt=\"Open In Colab\"/></a>"
      ]
    },
    {
      "cell_type": "code",
      "metadata": {
        "id": "cOHTIwiTTIiX",
        "outputId": "2d0f3ee3-7ae3-4107-835d-c48f683e0f7e",
        "colab": {
          "base_uri": "https://localhost:8080/",
          "height": 126
        }
      },
      "source": [
        "print(\"1.enter lattice length\")      \n",
        "n=int(input())                       #input:length of lattice site\n",
        "#print(\"2.intiation rate\")\n",
        "#alpha=float(input())\n",
        "\n",
        "print(\"3.termination rate\")          \n",
        "beta=float(input())                 #input: termination rate\n",
        "print(\"4.translation rate\")\n",
        "omega=float(input())                #input:translation rate\n",
        "x=([0]*n)                           #declearing the size of array\n"
      ],
      "execution_count": 1,
      "outputs": [
        {
          "output_type": "stream",
          "text": [
            "1.enter lattice length\n",
            "30\n",
            "3.termination rate\n",
            ".4\n",
            "4.translation rate\n",
            "1\n"
          ],
          "name": "stdout"
        }
      ]
    },
    {
      "cell_type": "code",
      "metadata": {
        "id": "AbJZzIU2TOI-",
        "outputId": "49470221-9139-49e5-91ae-93293052e23e",
        "colab": {
          "base_uri": "https://localhost:8080/",
          "height": 55
        }
      },
      "source": [
        "\n",
        "import numpy as np\n",
        "import random\n",
        "import time\n",
        "#from IPython.display import clear_output\n",
        "count=([0]*50)   #declearing the size of array count\n",
        "dt=1\n",
        "iter=1000000\n",
        "for j in range(50):                       # loop of alpha i.e initiation rate from 0 to .005\n",
        "    alpha=np.linspace(0,.5,50)          # range of aplha i.e initiation rate\n",
        "    \n",
        "    #dt=np.linspace(0,1000,100000) constant 0.01         # time range\n",
        "    for i in range(iter):               #loop over time\n",
        "        R1=random.randint(0,29)           # generating random no. b/w 0 to 29\n",
        "        R2=random.random()                # random no. b/w 0 to 1\n",
        "      \n",
        "        if R1==0 and R2<(alpha[j]*dt) and x[0]==0:   # condition for intiation rate \n",
        "            x[R1]=1\n",
        "            count[j]=count[j]+1                         # particle count: i.e added at the intial site\n",
        "           \n",
        "            \n",
        "        elif 0<=R1<=(n-2) and x[R1]==1 and x[R1+1]==0 and R2<omega*dt: # condition for translation\n",
        "            x[R1+1]=1\n",
        "            x[R1]=0     # translation to (R+1)th sie\n",
        "            \n",
        "\n",
        "        elif R1==n-1 and R2<beta*dt:     #condition for termination \n",
        "             x[R1]=0                        # particle gets abbsorbed at end site\n",
        "    \n",
        "print(count)  # particle count for different 50 values of alpha \n",
        "    "
      ],
      "execution_count": 2,
      "outputs": [
        {
          "output_type": "stream",
          "text": [
            "[0, 365, 664, 956, 1335, 1670, 1881, 2239, 2609, 2773, 3127, 3330, 3586, 3834, 4123, 4356, 4552, 4848, 4995, 5200, 5435, 5648, 5850, 5983, 6204, 6401, 6508, 6613, 6831, 6974, 7085, 7182, 7280, 7408, 7539, 7517, 7648, 7658, 7754, 7769, 7884, 7902, 7916, 7988, 7954, 7843, 7949, 8038, 7966, 8013]\n"
          ],
          "name": "stdout"
        }
      ]
    },
    {
      "cell_type": "code",
      "metadata": {
        "id": "qAodqF6_TVkb",
        "outputId": "c2d921b9-ba8e-46b1-f284-82b6820fc1ba",
        "colab": {
          "base_uri": "https://localhost:8080/",
          "height": 311
        }
      },
      "source": [
        "\n",
        "import numpy as np\n",
        "import matplotlib.pyplot as plt\n",
        "\n",
        "j=np.array(count)*n/(dt*iter)         # current= particle count w.r.t alpha/total time \n",
        "ja=alpha*(1-alpha/omega)           # analytical expression  \n",
        "\n",
        "plt.plot(alpha,j,alpha,ja)\n",
        "plt.xlabel(\"alpha\",size=24)\n",
        "plt.ylabel(\"J\",size=24)\n",
        "plt.legend([\"J_numerical_method\",\"Ja_analytical method\"])\n"
      ],
      "execution_count": 4,
      "outputs": [
        {
          "output_type": "execute_result",
          "data": {
            "text/plain": [
              "<matplotlib.legend.Legend at 0x7f0b75367908>"
            ]
          },
          "metadata": {
            "tags": []
          },
          "execution_count": 4
        },
        {
          "output_type": "display_data",
          "data": {
            "image/png": "[encoded data removed]",
            "text/plain": [
              "<Figure size 432x288 with 1 Axes>"
            ]
          },
          "metadata": {
            "tags": [],
            "needs_background": "light"
          }
        }
      ]
    },
    {
      "cell_type": "code",
      "metadata": {
        "id": "jGxL7Y3IUW6d"
      },
      "source": [
        ""
      ],
      "execution_count": null,
      "outputs": []
    }
  ]
}
