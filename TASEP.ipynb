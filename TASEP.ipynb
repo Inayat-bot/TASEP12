{
  "nbformat": 4,
  "nbformat_minor": 0,
  "metadata": {
    "colab": {
      "name": "TASEP.ipynb",
      "provenance": [],
      "collapsed_sections": [],
      "authorship_tag": "ABX9TyPJYOwC6e5URvgFvz91pV4b",
      "include_colab_link": true
    },
    "kernelspec": {
      "name": "python3",
      "display_name": "Python 3"
    }
  },
  "cells": [
    {
      "cell_type": "markdown",
      "metadata": {
        "id": "view-in-github",
        "colab_type": "text"
      },
      "source": [
        "<a href=\"https://colab.research.google.com/github/Inayat-bot/TASEP12/blob/main/TASEP.ipynb\" target=\"_parent\"><img src=\"https://colab.research.google.com/assets/colab-badge.svg\" alt=\"Open In Colab\"/></a>"
      ]
    },
    {
      "cell_type": "code",
      "metadata": {
        "id": "HXIDCbEAo2Ac",
        "outputId": "9f470aca-797f-4796-ed39-93f2493f3930",
        "colab": {
          "base_uri": "https://localhost:8080/",
          "height": 126
        }
      },
      "source": [
        "print(\"1.enter lattice length\")      \n",
        "n=int(input())                       #input:length of lattice site\n",
        "#print(\"2.intiation rate\")\n",
        "#alpha=float(input())\n",
        "\n",
        "print(\"3.termination rate\")          \n",
        "beta=float(input())                 #input: termination rate\n",
        "print(\"4.translation rate\")\n",
        "omega=float(input())                #input:translation rate\n",
        "x=([0]*n)                           #declearing the size of array\n",
        "\n",
        "\n"
      ],
      "execution_count": 1,
      "outputs": [
        {
          "output_type": "stream",
          "text": [
            "1.enter lattice length\n",
            "30\n",
            "3.termination rate\n",
            ".4\n",
            "4.translation rate\n",
            "1\n"
          ],
          "name": "stdout"
        }
      ]
    },
    {
      "cell_type": "code",
      "metadata": {
        "id": "0BoG9GX6mP5Q",
        "outputId": "7d3268f8-35ee-4fc5-d566-3bc14efd0714",
        "colab": {
          "base_uri": "https://localhost:8080/",
          "height": 55
        }
      },
      "source": [
        "\n",
        "import numpy as np\n",
        "import random\n",
        "import time\n",
        "#from IPython.display import clear_output\n",
        "count=([0]*50)   #declearing the size of array count\n",
        "dt=1\n",
        "for j in range(50):                       # loop of alpha i.e initiation rate from 0 to .005\n",
        "    alpha=np.linspace(0,.5,50)          # range of aplha i.e initiation rate\n",
        "    \n",
        "    #dt=np.linspace(0,1000,100000) constant 0.01         # time range\n",
        "    for i in range(1000000):               #loop over time\n",
        "        R1=random.randint(0,29)           # generating random no. b/w 0 to 29\n",
        "        R2=random.random()                # random no. b/w 0 to 1\n",
        "      \n",
        "        if R1==0 and R2<(alpha[j]*dt) and x[0]==0:   # condition for intiation rate \n",
        "            x[R1]=1\n",
        "            count[j]=count[j]+1                         # particle count: i.e added at the intial site\n",
        "           \n",
        "            \n",
        "        elif 0<=R1<=(n-2) and x[R1]==1 and x[R1+1]==0 and R2<omega*dt: # condition for translation\n",
        "            x[R1+1]=1\n",
        "            x[R1]=0     # translation to (R+1)th sie\n",
        "            \n",
        "\n",
        "        elif R1==n-1 and R2<beta*dt:     #condition for termination \n",
        "             x[R1]=0                        # particle gets abbsorbed at end site\n",
        "    \n",
        "print(count)  # particle count for different 50 values of alpha \n",
        "    "
      ],
      "execution_count": 2,
      "outputs": [
        {
          "output_type": "stream",
          "text": [
            "[0, 348, 649, 960, 1307, 1603, 1874, 2253, 2553, 2836, 3021, 3348, 3647, 3841, 4092, 4305, 4495, 4795, 5068, 5268, 5342, 5501, 5758, 6110, 6256, 6382, 6526, 6653, 6766, 6932, 7105, 7186, 7277, 7466, 7457, 7613, 7617, 7750, 7758, 7733, 7837, 7960, 7924, 7905, 7950, 7955, 7984, 7993, 7957, 7979]\n"
          ],
          "name": "stdout"
        }
      ]
    },
    {
      "cell_type": "code",
      "metadata": {
        "id": "HxxpCzlcm5Xa",
        "outputId": "132daedb-3a61-44d5-e4ca-b2cce5e3e20d",
        "colab": {
          "base_uri": "https://localhost:8080/",
          "height": 311
        }
      },
      "source": [
        "\n",
        "import numpy as np\n",
        "import matplotlib.pyplot as plt\n",
        "\n",
        "j=np.array(count)*30/(dt*1000000)         # current= particle count w.r.t alpha/total time \n",
        "ja=alpha*(1-alpha/omega)           # analytical expression  \n",
        "\n",
        "plt.plot(alpha,j,alpha,ja)\n",
        "plt.xlabel(\"alpha\",size=24)\n",
        "plt.ylabel(\"J\",size=24)\n",
        "plt.legend([\"Ja analticalmethod\",\"analytical method\"])\n"
      ],
      "execution_count": 3,
      "outputs": [
        {
          "output_type": "execute_result",
          "data": {
            "text/plain": [
              "<matplotlib.legend.Legend at 0x7f1cfebaf048>"
            ]
          },
          "metadata": {
            "tags": []
          },
          "execution_count": 3
        },
        {
          "output_type": "display_data",
          "data": {
            "image/png": "[encoded data removed]",
            "text/plain": [
              "<Figure size 432x288 with 1 Axes>"
            ]
          },
          "metadata": {
            "tags": [],
            "needs_background": "light"
          }
        }
      ]
    },
    {
      "cell_type": "code",
      "metadata": {
        "id": "59NOQoRIcoIo"
      },
      "source": [
        ""
      ],
      "execution_count": null,
      "outputs": []
    }
  ]
}