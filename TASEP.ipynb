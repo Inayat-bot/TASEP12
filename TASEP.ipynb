{
  "nbformat": 4,
  "nbformat_minor": 0,
  "metadata": {
    "colab": {
      "name": "TASEP.ipynb",
      "provenance": [],
      "collapsed_sections": [],
      "authorship_tag": "ABX9TyMlgs3ocb6jK3XscuwI27lZ",
      "include_colab_link": true
    },
    "kernelspec": {
      "name": "python3",
      "display_name": "Python 3"
    }
  },
  "cells": [
    {
      "cell_type": "markdown",
      "metadata": {
        "id": "view-in-github",
        "colab_type": "text"
      },
      "source": [
        "<a href=\"https://colab.research.google.com/github/Inayat-bot/TASEP12/blob/main/TASEP.ipynb\" target=\"_parent\"><img src=\"https://colab.research.google.com/assets/colab-badge.svg\" alt=\"Open In Colab\"/></a>"
      ]
    },
    {
      "cell_type": "code",
      "metadata": {
        "id": "HXIDCbEAo2Ac",
        "outputId": "3d82deee-702c-4ce3-a156-45d8595b71fc",
        "colab": {
          "base_uri": "https://localhost:8080/",
          "height": 119
        }
      },
      "source": [
        "print(\"1.enter lattice length\")      \n",
        "n=int(input())                       #input:length of lattice site\n",
        "#print(\"2.intiation rate\")\n",
        "#alpha=float(input())\n",
        "\n",
        "print(\"3.termination rate\")          \n",
        "beta=float(input())                 #input: termination rate\n",
        "print(\"4.translation rate\")\n",
        "omega=float(input())                #input:translation rate\n",
        "x=([0]*n)                           #declearing the size of array\n",
        "\n",
        "\n"
      ],
      "execution_count": 37,
      "outputs": [
        {
          "output_type": "stream",
          "text": [
            "1.enter lattice length\n",
            "30\n",
            "3.termination rate\n",
            ".01\n",
            "4.translation rate\n",
            ".009\n"
          ],
          "name": "stdout"
        }
      ]
    },
    {
      "cell_type": "code",
      "metadata": {
        "id": "0BoG9GX6mP5Q",
        "outputId": "54a53240-e52e-413b-b9a1-5f117f226a79",
        "colab": {
          "base_uri": "https://localhost:8080/",
          "height": 54
        }
      },
      "source": [
        "\n",
        "import numpy as np\n",
        "import random\n",
        "import time\n",
        "#from IPython.display import clear_output\n",
        "count=([0]*50)   #declearing the size of array count\n",
        "\n",
        "for j in range(50):                       # loop of alpha i.e initiation rate from 0 to .005\n",
        "    alpha=np.linspace(0,.005,50)          # range of aplha i.e initiation rate\n",
        "    \n",
        "    dt=np.linspace(0,1000,100000)         # time range\n",
        "    for i in range(100000):               #loop over time\n",
        "        R1=random.randint(0,29)           # generating random no. b/w 0 to 29\n",
        "        R2=random.random()                # random no. b/w 0 to 1\n",
        "      \n",
        "        if R1==0 and R2<(alpha[j]*dt[i]) and x[0]==0:   # condition for intiation rate \n",
        "           \n",
        "            count[j]=count[j]+1                         # particle count: i.e added at the intial site\n",
        "           \n",
        "            \n",
        "        elif 0<=R1<=(n-2) and x[R1]==1 and x[R1+1]==0 and R2<omega*dt[i]: # condition for translation\n",
        "            x[R1+1]=1\n",
        "            x[R1]=0     # translation to (R+1)th sie\n",
        "            \n",
        "\n",
        "        elif R1==n-1 and R2<beta*dt[i]:     #condition for termination \n",
        "             x[R1]=0                        # particle gets abbsorbed at end site\n",
        "    \n",
        "print(count)  # particle count for different 50 values of alpha \n",
        "    "
      ],
      "execution_count": 59,
      "outputs": [
        {
          "output_type": "stream",
          "text": [
            "[0, 179, 345, 481, 676, 797, 939, 1208, 1375, 1551, 1699, 1838, 1977, 2043, 2288, 2287, 2266, 2333, 2420, 2540, 2543, 2504, 2677, 2619, 2565, 2640, 2717, 2747, 2749, 2789, 2714, 2797, 2835, 2839, 2869, 2896, 2944, 2840, 2893, 2887, 2847, 2987, 2956, 2979, 2998, 3033, 2997, 2981, 3079, 2981]\n"
          ],
          "name": "stdout"
        }
      ]
    },
    {
      "cell_type": "code",
      "metadata": {
        "id": "HxxpCzlcm5Xa",
        "outputId": "19e19ad6-6c18-426a-d636-d9248c73ca65",
        "colab": {
          "base_uri": "https://localhost:8080/",
          "height": 310
        }
      },
      "source": [
        "\n",
        "import numpy as np\n",
        "import matplotlib.pyplot as plt\n",
        "\n",
        "j=np.array(count)/100000         # current= particle count w.r.t alpha/total time \n",
        "ja=alpha*(1-alpha/omega)           # analytical expression  \n",
        "\n",
        "plt.plot(alpha,ja,alpha,j)\n",
        "plt.xlabel(\"alpha\",size=24)\n",
        "plt.ylabel(\"J\",size=24)\n",
        "plt.legend([\"Ja analticalmethod\",\"analytical method\"])\n"
      ],
      "execution_count": 61,
      "outputs": [
        {
          "output_type": "execute_result",
          "data": {
            "text/plain": [
              "<matplotlib.legend.Legend at 0x7efdc43ccb70>"
            ]
          },
          "metadata": {
            "tags": []
          },
          "execution_count": 61
        },
        {
          "output_type": "display_data",
          "data": {
            "image/png": "[encoded data removed]",
            "text/plain": [
              "<Figure size 432x288 with 1 Axes>"
            ]
          },
          "metadata": {
            "tags": [],
            "needs_background": "light"
          }
        }
      ]
    },
    {
      "cell_type": "code",
      "metadata": {
        "id": "59NOQoRIcoIo"
      },
      "source": [
        ""
      ],
      "execution_count": null,
      "outputs": []
    }
  ]
}