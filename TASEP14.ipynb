{
  "nbformat": 4,
  "nbformat_minor": 0,
  "metadata": {
    "colab": {
      "name": "TASEP13.ipynb",
      "provenance": [],
      "authorship_tag": "ABX9TyOc6TC9smvjuCbq6I9xczQu",
      "include_colab_link": true
    },
    "kernelspec": {
      "name": "python3",
      "display_name": "Python 3"
    }
  },
  "cells": [
    {
      "cell_type": "markdown",
      "metadata": {
        "id": "view-in-github",
        "colab_type": "text"
      },
      "source": [
        "<a href=\"https://colab.research.google.com/github/Inayat-bot/TASEP12/blob/main/TASEP14.ipynb\" target=\"_parent\"><img src=\"https://colab.research.google.com/assets/colab-badge.svg\" alt=\"Open In Colab\"/></a>"
      ]
    },
    {
      "cell_type": "code",
      "metadata": {
        "id": "cOHTIwiTTIiX",
        "outputId": "267c1a07-e514-4b4d-f6dc-ce7dda449f91",
        "colab": {
          "base_uri": "https://localhost:8080/",
          "height": 126
        }
      },
      "source": [
        "print(\"1.enter lattice length\")      \n",
        "n=int(input())                       #input:length of lattice site\n",
        "print(\"2.intiation rate\")\n",
        "alpha=float(input())\n",
        "\n",
        "#print(\"3.termination rate\")          \n",
        "#beta=float(input())                 #input: termination rate\n",
        "print(\"4.translation rate\")\n",
        "omega=float(input())                #input:translation rate\n",
        "x=([0]*n)                           #declearing the size of array\n"
      ],
      "execution_count": 1,
      "outputs": [
        {
          "output_type": "stream",
          "text": [
            "1.enter lattice length\n",
            "30\n",
            "2.intiation rate\n",
            ".5\n",
            "4.translation rate\n",
            "1\n"
          ],
          "name": "stdout"
        }
      ]
    },
    {
      "cell_type": "code",
      "metadata": {
        "id": "AbJZzIU2TOI-",
        "outputId": "3bb9095c-ddac-4d4b-d3c4-f266d688cb22",
        "colab": {
          "base_uri": "https://localhost:8080/",
          "height": 55
        }
      },
      "source": [
        "\n",
        "import numpy as np\n",
        "import random\n",
        "import time\n",
        "#from IPython.display import clear_output\n",
        "count=([0]*50)   #declearing the size of array count\n",
        "dt=1\n",
        "iter=1000000\n",
        "for j in range(50):                       # loop of alpha i.e initiation rate from 0 to .005\n",
        "    beta=np.linspace(0,.5,50)          # range of aplha i.e initiation rate\n",
        "    \n",
        "    #dt=np.linspace(0,1000,100000) constant 0.01         # time range\n",
        "    for i in range(iter):               #loop over time\n",
        "        R1=random.randint(0,29)           # generating random no. b/w 0 to 29\n",
        "        R2=random.random()                # random no. b/w 0 to 1\n",
        "      \n",
        "        if R1==0 and R2<(alpha*dt) and x[0]==0:   # condition for intiation rate \n",
        "            x[R1]=1\n",
        "            count[j]=count[j]+1                         # particle count: i.e added at the intial site\n",
        "           \n",
        "            \n",
        "        elif 0<=R1<=(n-2) and x[R1]==1 and x[R1+1]==0 and R2<omega*dt: # condition for translation\n",
        "            x[R1+1]=1\n",
        "            x[R1]=0     # translation to (R+1)th sie\n",
        "            \n",
        "\n",
        "        elif R1==n-1 and R2<beta[j]*dt:     #condition for termination \n",
        "             x[R1]=0                        # particle gets abbsorbed at end site\n",
        "    \n",
        "print(count)  # particle count for different 50 values of alpha \n",
        "    "
      ],
      "execution_count": 2,
      "outputs": [
        {
          "output_type": "stream",
          "text": [
            "[30, 324, 640, 954, 1319, 1648, 1911, 2232, 2456, 2766, 3080, 3301, 3588, 3728, 4054, 4373, 4578, 4750, 4953, 5208, 5512, 5622, 5747, 5997, 6158, 6379, 6429, 6622, 6791, 6925, 7065, 7173, 7360, 7494, 7536, 7640, 7676, 7810, 7922, 7952, 8078, 8004, 8163, 8126, 8152, 8196, 8269, 8319, 8317, 8332]\n"
          ],
          "name": "stdout"
        }
      ]
    },
    {
      "cell_type": "code",
      "metadata": {
        "id": "qAodqF6_TVkb",
        "outputId": "28a0a305-67e9-42d8-8869-2a828e624692",
        "colab": {
          "base_uri": "https://localhost:8080/",
          "height": 311
        }
      },
      "source": [
        "\n",
        "import numpy as np\n",
        "import matplotlib.pyplot as plt\n",
        "\n",
        "j=np.array(count)*n/(dt*iter)         # current= particle count w.r.t alpha/total time \n",
        "ja=beta*(1-beta/omega)           # analytical expression  \n",
        "\n",
        "plt.plot(beta,j,beta,ja)\n",
        "plt.xlabel(\"beta\",size=24)\n",
        "plt.ylabel(\"J\",size=24)\n",
        "plt.legend([\"J_numerical_method\",\"Ja_analytical method\"])\n"
      ],
      "execution_count": 5,
      "outputs": [
        {
          "output_type": "execute_result",
          "data": {
            "text/plain": [
              "<matplotlib.legend.Legend at 0x7fdee280e588>"
            ]
          },
          "metadata": {
            "tags": []
          },
          "execution_count": 5
        },
        {
          "output_type": "display_data",
          "data": {
            "image/png": "[encoded data removed]",
            "text/plain": [
              "<Figure size 432x288 with 1 Axes>"
            ]
          },
          "metadata": {
            "tags": [],
            "needs_background": "light"
          }
        }
      ]
    },
    {
      "cell_type": "code",
      "metadata": {
        "id": "jGxL7Y3IUW6d"
      },
      "source": [
        ""
      ],
      "execution_count": null,
      "outputs": []
    }
  ]
}