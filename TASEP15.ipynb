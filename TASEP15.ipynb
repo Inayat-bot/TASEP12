{
  "nbformat": 4,
  "nbformat_minor": 0,
  "metadata": {
    "colab": {
      "name": "TASEP13.ipynb",
      "provenance": [],
      "authorship_tag": "ABX9TyNn5v7NIjq1mQEXqXKku3Wu",
      "include_colab_link": true
    },
    "kernelspec": {
      "name": "python3",
      "display_name": "Python 3"
    }
  },
  "cells": [
    {
      "cell_type": "markdown",
      "metadata": {
        "id": "view-in-github",
        "colab_type": "text"
      },
      "source": [
        "<a href=\"https://colab.research.google.com/github/Inayat-bot/TASEP12/blob/main/TASEP15.ipynb\" target=\"_parent\"><img src=\"https://colab.research.google.com/assets/colab-badge.svg\" alt=\"Open In Colab\"/></a>"
      ]
    },
    {
      "cell_type": "code",
      "metadata": {
        "id": "cOHTIwiTTIiX",
        "outputId": "a69acf35-6f12-4098-e4e5-fe6143b05114",
        "colab": {
          "base_uri": "https://localhost:8080/",
          "height": 126
        }
      },
      "source": [
        "print(\"1.enter lattice length\")      \n",
        "n=int(input())                       #input:length of lattice site\n",
        "print(\"2.intiation rate\")\n",
        "alpha=float(input())\n",
        "\n",
        "print(\"3.termination rate\")          \n",
        "beta=float(input())                 #input: termination rate\n",
        "#print(\"4.translation rate\")\n",
        "#omega=float(input())                #input:translation rate\n",
        "x=([0]*n)                           #declearing the size of array\n"
      ],
      "execution_count": 15,
      "outputs": [
        {
          "output_type": "stream",
          "text": [
            "1.enter lattice length\n",
            "30\n",
            "2.intiation rate\n",
            ".5\n",
            "3.termination rate\n",
            ".6\n"
          ],
          "name": "stdout"
        }
      ]
    },
    {
      "cell_type": "code",
      "metadata": {
        "id": "AbJZzIU2TOI-",
        "outputId": "f9bcdffc-3c3a-4562-e94e-7c2498fe1889",
        "colab": {
          "base_uri": "https://localhost:8080/",
          "height": 55
        }
      },
      "source": [
        "\n",
        "import numpy as np\n",
        "import random\n",
        "import time\n",
        "#from IPython.display import clear_output\n",
        "count=([0]*50)   #declearing the size of array count\n",
        "dt=1\n",
        "iter=1000000\n",
        "for j in range(50):                       # loop of alpha i.e initiation rate from 0 to .005\n",
        "    omega=np.linspace(0,.5,50)          # range of aplha i.e initiation rate\n",
        "    \n",
        "    #dt=np.linspace(0,1000,100000) constant 0.01         # time range\n",
        "    for i in range(iter):               #loop over time\n",
        "        R1=random.randint(0,29)           # generating random no. b/w 0 to 29\n",
        "        R2=random.random()                # random no. b/w 0 to 1\n",
        "      \n",
        "        if R1==0 and R2<(alpha*dt) and x[0]==0:   # condition for intiation rate \n",
        "            x[R1]=1\n",
        "            count[j]=count[j]+1                         # particle count: i.e added at the intial site\n",
        "           \n",
        "            \n",
        "        elif 0<=R1<=(n-2) and x[R1]==1 and x[R1+1]==0 and R2<omega[j]*dt: # condition for translation\n",
        "            x[R1+1]=1\n",
        "            x[R1]=0     # translation to (R+1)th sie\n",
        "            \n",
        "\n",
        "        elif R1==n-1 and R2<beta*dt:     #condition for termination \n",
        "             x[R1]=0                        # particle gets abbsorbed at end site\n",
        "    \n",
        "print(count)  # particle count for different 50 values of alpha \n",
        "    "
      ],
      "execution_count": 16,
      "outputs": [
        {
          "output_type": "stream",
          "text": [
            "[1, 93, 188, 268, 365, 457, 542, 620, 717, 810, 893, 977, 1053, 1154, 1245, 1347, 1453, 1508, 1606, 1700, 1782, 1877, 1970, 2044, 2151, 2230, 2334, 2441, 2493, 2596, 2665, 2772, 2850, 2946, 3056, 3127, 3209, 3334, 3390, 3487, 3568, 3649, 3730, 3845, 3953, 4047, 4140, 4190, 4294, 4369]\n"
          ],
          "name": "stdout"
        }
      ]
    },
    {
      "cell_type": "code",
      "metadata": {
        "id": "qAodqF6_TVkb",
        "outputId": "f000e69d-a45c-4c8c-9572-5c2fbf4fbfbb",
        "colab": {
          "base_uri": "https://localhost:8080/",
          "height": 311
        }
      },
      "source": [
        "\n",
        "import numpy as np\n",
        "import matplotlib.pyplot as plt\n",
        "\n",
        "j=np.array(count)*n/(dt*iter)         # current= particle count w.r.t alpha/total time \n",
        "ja=omega/4\n",
        "#ja=alpha*(1-alpha/omega)           # analytical expression  \n",
        "\n",
        "plt.plot(omega,j,omega,ja)\n",
        "plt.xlabel(\"omega\",size=24)\n",
        "plt.ylabel(\"J\",size=24)\n",
        "plt.legend([\"J_numerical_method\",\"Ja_analytical method\"])\n"
      ],
      "execution_count": 18,
      "outputs": [
        {
          "output_type": "execute_result",
          "data": {
            "text/plain": [
              "<matplotlib.legend.Legend at 0x7fdee2462048>"
            ]
          },
          "metadata": {
            "tags": []
          },
          "execution_count": 18
        },
        {
          "output_type": "display_data",
          "data": {
            "image/png": "[encoded data removed]",
            "text/plain": [
              "<Figure size 432x288 with 1 Axes>"
            ]
          },
          "metadata": {
            "tags": [],
            "needs_background": "light"
          }
        }
      ]
    },
    {
      "cell_type": "code",
      "metadata": {
        "id": "jGxL7Y3IUW6d"
      },
      "source": [
        ""
      ],
      "execution_count": null,
      "outputs": []
    }
  ]
}